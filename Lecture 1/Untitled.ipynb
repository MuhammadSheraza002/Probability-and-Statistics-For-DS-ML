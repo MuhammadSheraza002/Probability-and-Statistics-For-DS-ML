{
 "cells": [
  {
   "cell_type": "markdown",
   "id": "caf66151-bc5c-4beb-bdb4-cb6b16266e08",
   "metadata": {},
   "source": [
    "#  Sample Spaces\r\n",
    "\r\n",
    "## Introduction\r\n",
    "\r\n",
    "Greetings, students! Today, we're delving into the fundamental concept of sample spaces in probability theory. Understanding sample spaces is crucial for solving probability problems and making informed decisions in various real-world scenarios.\r\n",
    "\r\n",
    "## Definition of Sample Space\r\n",
    "\r\n",
    "The **sample space** is the set of all possible outcomes of a random experiment or process. In simpler terms, it encompasses every possible result that can occur when an experiment is conducted. We denote the sample space by the symbol \\( S \\) or \\( \\Om\n",
    "## Notation for Sample Spaces\n",
    "\n",
    "The notation for sample spaces depends on the context. In finite sample spaces, we can explicitly list all outcomes. For infinite sample spaces, we may use mathematical notation or describe the characteristics of outcomes.\n",
    "\n",
    "## Importance of Sample Spaces\n",
    "\n",
    "Understanding the sample space is crucial for calculating probabilities. The probability of an event is the ratio of the number of favorable outcomes to the total number of outcomes in the sample space.\n",
    "\n",
    "\\[ P(\\text{Event}) = \\frac{\\text{Number of Favorable Outcomes}}{\\text{Total Number of Outcomes in } S} \\]\n",
    "\n",
    "\n",
    "efor solving intriguing probability problems! 🎲\r\n"
   ]
  },
  {
   "cell_type": "code",
   "execution_count": null,
   "id": "ededa88e-4e6d-4ca7-9a11-414438f9dede",
   "metadata": {},
   "outputs": [],
   "source": []
  },
  {
   "cell_type": "code",
   "execution_count": null,
   "id": "8405b3fe-38dc-4ced-b349-fc9b1b608a94",
   "metadata": {},
   "outputs": [],
   "source": []
  },
  {
   "cell_type": "markdown",
   "id": "8415762b-64bf-40d9-aaab-7147a1bcb02a",
   "metadata": {},
   "source": [
    "## Examples of Sample Spaces\n",
    "\n",
    "Let's explore a few examples to solidify our understanding:\n",
    "\n",
    "### Example 1: Coin Toss\n",
    "\n",
    "Consider the experiment of tossing a fair coin. The sample space \\( S \\) for this experiment consists of two possible outcomes: heads (H) or tails (T).\n",
    "\n",
    "\\[ S = \\{H, T\\} \\]\n",
    "\n",
    "### Example 2: Rolling a Six-Sided Die\n",
    "\n",
    "When rolling a standard six-sided die, the sample space \\( S \\) is the set of all possible outcomes, which are the numbers 1 through 6.\n",
    "\n",
    "\\[ S = \\{1, 2, 3, 4, 5, 6\\} \\]\n",
    "\n",
    "### Example 3: Deck of Playing Cards\n",
    "\n",
    "In a standard deck of playing cards, the sample space \\( S \\) includes all 52 cards, where each card is a unique outcome.\n",
    "\n",
    "\\[ S = \\{ \\text{Ace, 2, 3, ..., 10, J, Q, K} \\} \\times \\{ \\text{Hearts, Diamonds, Clubs, Spades} \\} \\]\n",
    "\n"
   ]
  },
  {
   "cell_type": "code",
   "execution_count": null,
   "id": "4122d6ff-8862-4c56-a9b6-844cda2abba3",
   "metadata": {},
   "outputs": [],
   "source": []
  },
  {
   "cell_type": "code",
   "execution_count": null,
   "id": "3dbcfcab-13b3-4c7c-b9a4-6b3da55b0286",
   "metadata": {},
   "outputs": [],
   "source": []
  },
  {
   "cell_type": "markdown",
   "id": "a5287cbd-e676-403d-8e10-9c877dce1c1c",
   "metadata": {},
   "source": [
    "# Sample Spaces\r\n",
    "\r\n",
    "In probability theory, determining sample spaces for experiments is a crucial step, and there are two specific devices commonly used for this purpose: tree diagrams and tables.\r\n",
    "\r\n",
    "## Tree Diagrams\r\n",
    "\r\n",
    "A **tree diagram** is a graphical representation that consists of branches corresponding to the outcomes of two or more probability experiments done in sequence. It is a visual tool that helps to organize and display the possible outcomes of a series of events.\r\n",
    "\r\n",
    "### Example Tree Diagram:\r\n",
    "\r\n",
    "Consider a two-step experiment:\r\n",
    "\r\n",
    "1. Tossing a fair coin (possible outcomes: H - heads, T - tails).\r\n",
    "2. Rolling a six-sided die (possible outcomes: 1, 2, 3, 4, 5, 6).\r\n",
    "\r\n",
    "The tree diagram for this experiment would look like this:\r\n",
    "\r\n"
   ]
  },
  {
   "cell_type": "markdown",
   "id": "53196517-515a-4a7c-ab76-7de0fba05fd3",
   "metadata": {},
   "source": [
    " \n",
    "        H\r\n",
    "       / \\\r\n",
    "      1   2   3   4   5   6\r\n",
    "     / \\ / \\ / \\ / \\ / \\ / \\\r\n",
    "    T   T   T   T   T   T\r\n",
    "   / \\ / \\ / \\ / \\ / \\ / \\\r\n",
    "  1   2   3   4   5   6\r\n"
   ]
  },
  {
   "cell_type": "code",
   "execution_count": 14,
   "id": "e2b5d096-dd76-4aa1-9c1b-7c9e34a4fb44",
   "metadata": {},
   "outputs": [
    {
     "name": "stdout",
     "output_type": "stream",
     "text": [
      "H - 1\n",
      "H - 2\n",
      "H - 3\n",
      "H - 4\n",
      "H - 5\n",
      "H - 6\n",
      "T - 1\n",
      "T - 2\n",
      "T - 3\n",
      "T - 4\n",
      "T - 5\n",
      "T - 6\n"
     ]
    }
   ],
   "source": [
    "# Python code for the tree diagram example\n",
    "\n",
    "# Define the possible outcomes for each step\n",
    "coin_outcomes = ['H', 'T']\n",
    "die_outcomes = [1, 2, 3, 4, 5, 6]\n",
    "\n",
    "# Create a tree diagram using nested loops\n",
    "for coin_outcome in coin_outcomes:\n",
    "    for die_outcome in die_outcomes:\n",
    "        print(f\"{coin_outcome} - {die_outcome}\")\n"
   ]
  },
  {
   "cell_type": "code",
   "execution_count": null,
   "id": "f1aba88a-eab6-404a-8615-67e1e5a3b925",
   "metadata": {},
   "outputs": [],
   "source": []
  },
  {
   "cell_type": "code",
   "execution_count": null,
   "id": "87d11986-72c5-41ef-b400-508d509ceb31",
   "metadata": {},
   "outputs": [],
   "source": []
  },
  {
   "cell_type": "code",
   "execution_count": 15,
   "id": "abff9040-bdcd-492e-8068-8592966c8578",
   "metadata": {},
   "outputs": [
    {
     "name": "stdout",
     "output_type": "stream",
     "text": [
      "| Outcome | Probability |\n",
      "|---------|-------------|\n",
      "| 1       | 0.17        |\n",
      "| 2       | 0.17        |\n",
      "| 3       | 0.17        |\n",
      "| 4       | 0.17        |\n",
      "| 5       | 0.17        |\n",
      "| 6       | 0.17        |\n"
     ]
    }
   ],
   "source": []
  },
  {
   "cell_type": "markdown",
   "id": "b82c6112-2300-44b5-9091-91357cfe3b71",
   "metadata": {},
   "source": [
    "## Tables\n",
    "\n",
    "Tables are another useful tool for representing sample spaces. A **table** provides a systematic way to list and organize the outcomes of a probability experiment.\n",
    "\n",
    "### Example Table:\n",
    "\n",
    "Consider a simple experiment of rolling a fair six-sided die:\n",
    "\n",
    "| Outcome | Probability |\n",
    "|---------|-------------|\n",
    "| 1       | 1/6         |\n",
    "| 2       | 1/6         |\n",
    "| 3       | 1/6         |\n",
    "| 4       | 1/6         |\n",
    "| 5       | 1/6         |\n",
    "| 6       | 1/6         |\n",
    "\n",
    "In this table, each row represents a possible outcome, and the probability of each outcome is provided.\n",
    "\n",
    "Both tree diagrams and tables are valuable tools in probability theory, offering clear visualizations and organized representations of sample spaces for various experiments.\n"
   ]
  },
  {
   "cell_type": "code",
   "execution_count": null,
   "id": "658e8c87-ac9b-47f3-a591-8fadea61325a",
   "metadata": {},
   "outputs": [],
   "source": []
  },
  {
   "cell_type": "code",
   "execution_count": 16,
   "id": "53638a46-104b-4565-a2a9-f6a720af8992",
   "metadata": {},
   "outputs": [
    {
     "name": "stdout",
     "output_type": "stream",
     "text": [
      "| Outcome | Probability |\n",
      "|---------|-------------|\n",
      "| 1       | 0.17        |\n",
      "| 2       | 0.17        |\n",
      "| 3       | 0.17        |\n",
      "| 4       | 0.17        |\n",
      "| 5       | 0.17        |\n",
      "| 6       | 0.17        |\n"
     ]
    }
   ],
   "source": [
    "# Python code for the table example\n",
    "\n",
    "# Define the possible outcomes for rolling a fair six-sided die\n",
    "die_outcomes = [1, 2, 3, 4, 5, 6]\n",
    "\n",
    "# Print the table header\n",
    "print(\"| Outcome | Probability |\")\n",
    "print(\"|---------|-------------|\")\n",
    "\n",
    "# Print each row of the table\n",
    "for outcome in die_outcomes:\n",
    "    probability = 1 / len(die_outcomes)\n",
    "    print(f\"| {outcome}       | {probability:.2f}        |\")\n"
   ]
  },
  {
   "cell_type": "code",
   "execution_count": null,
   "id": "73103497-3458-4908-8425-1ec5a2ee764a",
   "metadata": {},
   "outputs": [],
   "source": []
  },
  {
   "cell_type": "markdown",
   "id": "0baf04a1-8b38-40df-ab8e-f621c8ff643b",
   "metadata": {},
   "source": [
    "# Example: Coin Toss and Die Roll\r\n",
    "\r\n",
    "A coin is tossed, and a die is rolled. Let's find the probability of the following event Probability of 4 on Die: {probability_c:.2f}\")\r\n"
   ]
  },
  {
   "cell_type": "code",
   "execution_count": 19,
   "id": "9c3b4c0b-e2ab-4925-8b9b-a6b6afedf04a",
   "metadata": {},
   "outputs": [],
   "source": [
    "# Define the sample space\n",
    "coin_outcomes = ['H', 'T']\n",
    "die_outcomes = [1, 2, 3, 4, 5, 6]"
   ]
  },
  {
   "cell_type": "markdown",
   "id": "ffbad0fe-5486-416d-a379-55853bcd5c7d",
   "metadata": {},
   "source": [
    "### a. A head on the coin and a 3 on the die.\n",
    "\n",
    "The sample space for the coin toss is {H, T}, and for the die roll, it's {1, 2, 3, 4, 5, 6}.\n",
    "\n",
    "The favorable outcome for this event is (H, 3).\n",
    "\n"
   ]
  },
  {
   "cell_type": "code",
   "execution_count": 20,
   "id": "1f986b61-65ba-40a6-bcfe-a810ca108562",
   "metadata": {},
   "outputs": [
    {
     "name": "stdout",
     "output_type": "stream",
     "text": [
      "a. Probability of Head and 3: 0.08\n"
     ]
    }
   ],
   "source": [
    "# Event a: A head on the coin and a 3 on the die\n",
    "event_a_outcome = ('H', 3)\n",
    "probability_a = 1 / (len(coin_outcomes) * len(die_outcomes))\n",
    "print(f\"a. Probability of Head and 3: {probability_a:.2f}\")"
   ]
  },
  {
   "cell_type": "markdown",
   "id": "5af40066-95b5-43c8-9c57-39e564532866",
   "metadata": {},
   "source": [
    "\n",
    "### b. A head on the coin.\n",
    "\n",
    "The favorable outcome for this event is getting a head (H)."
   ]
  },
  {
   "cell_type": "code",
   "execution_count": 22,
   "id": "8ffd1ac4-f8ba-4604-bf32-f55e82c2b715",
   "metadata": {},
   "outputs": [
    {
     "name": "stdout",
     "output_type": "stream",
     "text": [
      "b. Probability of Head: 0.50\n"
     ]
    }
   ],
   "source": [
    "# Event b: A head on the coin\n",
    "event_b_outcome = 'H'\n",
    "probability_b = 1 / len(coin_outcomes)\n",
    "print(f\"b. Probability of Head: {probability_b:.2f}\")\n"
   ]
  },
  {
   "cell_type": "code",
   "execution_count": null,
   "id": "72606096-e84a-4a94-b4f0-64743be69934",
   "metadata": {},
   "outputs": [],
   "source": []
  },
  {
   "cell_type": "markdown",
   "id": "29bd173b-42a9-4eeb-94a5-3ca8beac4da0",
   "metadata": {},
   "source": [
    "### c. A 4 on the die.\n",
    "The favorable outcome for this event is getting a 4 on the die."
   ]
  },
  {
   "cell_type": "code",
   "execution_count": 23,
   "id": "961b2d7d-8bbe-41c3-b6a0-5b1f6145a916",
   "metadata": {},
   "outputs": [
    {
     "name": "stdout",
     "output_type": "stream",
     "text": [
      "c. Probability of 4 on Die: 0.17\n"
     ]
    }
   ],
   "source": [
    "# Event c: A 4 on the die\n",
    "event_c_outcome = 4\n",
    "probability_c = 1 / len(die_outcomes)\n",
    "print(f\"c. Probability of 4 on Die: {probability_c:.2f}\")\n"
   ]
  },
  {
   "cell_type": "code",
   "execution_count": null,
   "id": "9b113a5d-7cb3-495d-9eeb-4ae349bf7c84",
   "metadata": {},
   "outputs": [],
   "source": []
  },
  {
   "cell_type": "markdown",
   "id": "a5a87a6c-048d-4838-bd78-446d7cdbcd72",
   "metadata": {},
   "source": [
    "# Probability Lecture: Addition Rule I\r\n",
    "\r\n",
    "## Introduction\r\n",
    "\r\n",
    "Good day, students! Today, we delve into a fundamental concept in probability theory, known as the **Addition Rule I**. This rule is particularly useful when dealing with events that are mutually exclusive or disjoint. Let's break down the **Addition Rule I** and understand how it works.\r\n",
    "\r\n",
    "## Understanding Mutually Exclusive Events\r\n",
    "\r\n",
    "Firstly, let's define what we mean by mutually exclusive or disjoint events. Two events, A and B, are said to be mutually exclusive if they cannot occur at the same time. In simpler terms, the occurrence of one event means the other cannot happen simultaneously.\r\n",
    "\r\n",
    "## Addition Rule I Formula\r\n",
    "\r\n",
    "The **Addition Rule I** provides us with a straightforward formula for calculating the probability of the union of two mutually exclusive events, A and B. The formula is as follows:\r\n",
    "\r\n",
    "\\[ P(A \\text{ or } B) = P(A) + P(B) \\]\r\n",
    "\r\n",
    "Alternatively, you might also encounter the notation:\r\n",
    "\r\n",
    "\\[ P(A \\cup B) = P(A) + P(B) \\]\r\n",
    "\r\n",
    "The key point here is that when events A and B are mutually exclusive, the probability of either event occurring is simply the sum of the individual probabilities.\r\n",
    "\r\n",
    "## Example\r\n",
    "\r\n",
    "Let's consider a practical example to illustrate the concept. Suppose we have a standard deck of 52 playing cards. Event A is drawing an Ace, and Event B is drawing a King. These events are mutually exclusive because a card cannot be both an Ace and a King simultaneously.\r\n",
    "\r\n",
    "Now, let's apply the **Addition Rule I**:\r\n",
    "\r\n",
    "\\[ P(A \\text{ or } B) = P(A) + P(B) \\]\r\n",
    "\r\n",
    "\\[ P(\\text{Ace or King}) = P(\\text{Ace}) + P(\\text{King}) \\]\r\n",
    "\r\n",
    "Since there are 4 Aces in a deck and 4 Kings, we can calculate:\r\n",
    "\r\n",
    "\\[ P(\\text{Ace or King}) = \\frac{4}{52} + \\frac{4}{52} = \\frac{8}{52} \\]\r\n",
    "\r\n",
    "Simplifying, we get:\r\n",
    "\r\n",
    "\\[ P(\\ng}) = \\frac{2}{13} \\]\r\n",
    "\r\n",
    "## Conclusion\r\n",
    "\r\n",
    "In conclusion, the **Addition Rule I** is a powerful tool when dealing with mutually exclusive events. By understanding that the probability of either event occurring is the sum of their individual probabilities, we can make calculations more efficiently.\r\n",
    "\r\n",
    "As you progress in probability theory, you'll encounter variations of this rule and its application in different scenarios. For now, practice applying the **Addition Rule I** with varioou for your attention, and happy calculating!\r\n"
   ]
  },
  {
   "cell_type": "code",
   "execution_count": null,
   "id": "5fea524c-f403-4c15-a505-1fab853eceec",
   "metadata": {},
   "outputs": [],
   "source": []
  },
  {
   "cell_type": "code",
   "execution_count": null,
   "id": "ce8fe3dc-5876-454c-8e08-8601900df87f",
   "metadata": {},
   "outputs": [],
   "source": []
  },
  {
   "cell_type": "code",
   "execution_count": 9,
   "id": "af4f69c3-9a9e-479a-b3cf-c4a9a381b276",
   "metadata": {},
   "outputs": [
    {
     "name": "stdout",
     "output_type": "stream",
     "text": [
      "Probability of drawing an Ace or a King: 0.1538\n"
     ]
    }
   ],
   "source": [
    "# Function to calculate the probability using Addition Rule I\n",
    "def addition_rule_probability(probability_A, probability_B):\n",
    "    return probability_A + probability_B\n",
    "\n",
    "# Given probabilities\n",
    "probability_ace = 4 / 52  # Probability of drawing an Ace\n",
    "probability_king = 4 / 52  # Probability of drawing a King\n",
    "\n",
    "# Applying Addition Rule I\n",
    "probability_ace_or_king = addition_rule_probability(probability_ace, probability_king)\n",
    "\n",
    "# Print the result\n",
    "print(f\"Probability of drawing an Ace or a King: {probability_ace_or_king:.4f}\")\n"
   ]
  },
  {
   "cell_type": "code",
   "execution_count": null,
   "id": "47b87f7c-ab44-43e9-9c33-a8b3e335efab",
   "metadata": {},
   "outputs": [],
   "source": []
  },
  {
   "cell_type": "markdown",
   "id": "cfe1be53-639b-401f-b603-45614306474c",
   "metadata": {},
   "source": [
    "# Example: Rolling a Die\r\n",
    "\r\n",
    "When a standard six-sided die is rolled, let's find the probability of getting a 2 or a 3.\r\n"
   ]
  },
  {
   "cell_type": "code",
   "execution_count": 10,
   "id": "927e5519-df70-4e1a-974f-be807bec709d",
   "metadata": {},
   "outputs": [
    {
     "name": "stdout",
     "output_type": "stream",
     "text": [
      "Probability of getting a 2 or a 3: 0.33\n"
     ]
    }
   ],
   "source": [
    "# Total number of outcomes on a six-sided die\n",
    "total_outcomes = 6\n",
    "\n",
    "# Number of favorable outcomes (getting a 2 or a 3)\n",
    "favorable_outcomes = 2\n",
    "\n",
    "# Probability calculation without using library\n",
    "probability = favorable_outcomes / total_outcomes\n",
    "\n",
    "# Print the result\n",
    "print(f\"Probability of getting a 2 or a 3: {probability:.2f}\")\n"
   ]
  },
  {
   "cell_type": "markdown",
   "id": "e5fb6da3-06ae-44cd-8889-ca771add2d3a",
   "metadata": {},
   "source": [
    "# Addition Rule I: Cable Television Networks\r\n",
    "\r\n",
    "A cable television company offers programs on eight different channels, three affiliated with ABC, two with NBC, and one with CBS. The other two are an educational channel and the ESPN sports channel. Suppose that a person subscribing to this service turns on a television set without first selecting the channel.\r\n",
    "\r\n",
    "Let A be the event that the program belongs to the NBC network, and B the event that it belongs to the CBS network. Since a television program cannot belong to more than one network, the events A and B have no programs in common. Therefore, the intersection \\( A \\cap B \\) contains no programs, and consequently, the events A and B are mutually exclusive.\r\n",
    "\r\n",
    "## Addition Rule I for Mutually Exclusive Events\r\n",
    "\r\n",
    "The Addition Rule I states that the probability of the union of two mutually exclusive events is the sum of their individual probabilities:\r\n",
    "\r\n",
    "\\[ P(A \\cup B) = P(A) + P(B) \\]\r\n",
    "\r\n",
    "Since A and B are mutually exclusive, the probability of their intersection \\( P(A \\cap B) \\) is 0.\r\n",
    "\r\n",
    "## Probability Calculation\r\n",
    "\r\n",
    "Given probabilities:\r\n",
    "- \\( P(A) \\), the probability of the program belonging to the NBC network (2 channels out of 8)\r\n",
    "- \\( P(B) \\), the probability of the program belonging to the CBS network (1 channel out of 8)\r\n",
    "\r\n",
    "Applying Addition Rule I for mutually exclusive events:\r\n",
    "\r\n",
    "\\[ P(A \\cup B) = P(A) + P(B) \\]\r\n",
    "\r\n",
    "Let's expresor CBS: {probability_A_or_B:.2f}\")\r\n"
   ]
  },
  {
   "cell_type": "code",
   "execution_count": 11,
   "id": "b8c72700-7a22-47cc-addf-92c80c2f7459",
   "metadata": {},
   "outputs": [
    {
     "name": "stdout",
     "output_type": "stream",
     "text": [
      "Probability of the program belonging to NBC or CBS: 0.38\n"
     ]
    }
   ],
   "source": [
    "\n",
    "probability_A = 2 / 8  # Probability of the program belonging to the NBC network\n",
    "probability_B = 1 / 8  # Probability of the program belonging to the CBS network\n",
    "\n",
    "# Applying Addition Rule I for mutually exclusive events\n",
    "probability_A_or_B = probability_A + probability_B\n",
    "\n",
    "# Print the result\n",
    "print(f\"Probability of the program belonging to NBC or CBS: {probability_A_or_B:.2f}\")\n"
   ]
  },
  {
   "cell_type": "code",
   "execution_count": null,
   "id": "1b0b56f9-a674-485b-a715-d8268a588d6a",
   "metadata": {},
   "outputs": [],
   "source": []
  },
  {
   "cell_type": "markdown",
   "id": "86b5cf1c-bc9d-4454-85bf-3b5e5c03f05e",
   "metadata": {},
   "source": []
  },
  {
   "cell_type": "code",
   "execution_count": null,
   "id": "b8d8f5cf-8f2b-4de3-bb4d-292d7804744e",
   "metadata": {},
   "outputs": [],
   "source": []
  }
 ],
 "metadata": {
  "kernelspec": {
   "display_name": "Python 3 (ipykernel)",
   "language": "python",
   "name": "python3"
  },
  "language_info": {
   "codemirror_mode": {
    "name": "ipython",
    "version": 3
   },
   "file_extension": ".py",
   "mimetype": "text/x-python",
   "name": "python",
   "nbconvert_exporter": "python",
   "pygments_lexer": "ipython3",
   "version": "3.10.6"
  }
 },
 "nbformat": 4,
 "nbformat_minor": 5
}
